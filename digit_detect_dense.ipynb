{
 "cells": [
  {
   "cell_type": "code",
   "execution_count": 2,
   "metadata": {},
   "outputs": [
    {
     "name": "stdout",
     "output_type": "stream",
     "text": [
      "(60000, 28, 28)\n",
      "(60000,)\n",
      "[5 0 4 ... 5 6 8]\n"
     ]
    },
    {
     "data": {
      "image/png": "[encoded data removed]",
      "text/plain": [
       "<Figure size 432x288 with 2 Axes>"
      ]
     },
     "metadata": {
      "needs_background": "light"
     },
     "output_type": "display_data"
    },
    {
     "data": {
      "text/plain": [
       "<matplotlib.image.AxesImage at 0x1a58bca0b08>"
      ]
     },
     "execution_count": 2,
     "metadata": {},
     "output_type": "execute_result"
    },
    {
     "data": {
      "image/png": "[encoded data removed]",
      "text/plain": [
       "<Figure size 432x288 with 1 Axes>"
      ]
     },
     "metadata": {
      "needs_background": "light"
     },
     "output_type": "display_data"
    }
   ],
   "source": [
    "import keras\n",
    "from keras.datasets import mnist\n",
    "from keras import models, layers\n",
    "import numpy as np\n",
    "import matplotlib.pyplot as plt\n",
    "from keras.utils import to_categorical\n",
    "\n",
    "\n",
    "# Reading the mnist dataset which is 28X28 pixel of 70k integer (0-9) RBG scale images\n",
    "# Out of these 70K, I am using 60K to train my deep network, rest 10k will be used for validation/testing\n",
    "(train_images, train_labels), (test_images, test_labels) = mnist.load_data()\n",
    "print (train_images.shape);\n",
    "print (train_labels.shape);\n",
    "print (train_labels);\n",
    "\n",
    "# Lets see the images visually using MatPlot\n",
    "plt.figure()\n",
    "plt.title('First Train Image:');\n",
    "plt.imshow(train_images[0]);\n",
    "plt.colorbar()\n",
    "plt.grid(False)\n",
    "plt.show();\n",
    "plt.title('First Test Image:');\n",
    "plt.imshow(test_images[0])\n"
   ]
  },
  {
   "cell_type": "code",
   "execution_count": 3,
   "metadata": {},
   "outputs": [
    {
     "name": "stdout",
     "output_type": "stream",
     "text": [
      "WARNING:tensorflow:From C:\\Users\\pradipm\\AppData\\Local\\Continuum\\anaconda3\\envs\\practice\\lib\\site-packages\\tensorflow\\python\\framework\\op_def_library.py:263: colocate_with (from tensorflow.python.framework.ops) is deprecated and will be removed in a future version.\n",
      "Instructions for updating:\n",
      "Colocations handled automatically by placer.\n",
      "Model: \"sequential_1\"\n",
      "_________________________________________________________________\n",
      "Layer (type)                 Output Shape              Param #   \n",
      "=================================================================\n",
      "dense_1 (Dense)              (None, 512)               401920    \n",
      "_________________________________________________________________\n",
      "dense_2 (Dense)              (None, 10)                5130      \n",
      "=================================================================\n",
      "Total params: 407,050\n",
      "Trainable params: 407,050\n",
      "Non-trainable params: 0\n",
      "_________________________________________________________________\n"
     ]
    }
   ],
   "source": [
    "## Building the TensorFlow Network\n",
    "# As this is a categorical classification (multi class, single label) problem, so going with seq \"Dense\" sort of deep networks\n",
    "network = models.Sequential();\n",
    "\n",
    "# First layer is downshaping 28X28 image to a 512 tensor vector, relu is max(0, input)\n",
    "network.add(layers.Dense(512, activation='relu', input_shape=(28 * 28,)));\n",
    "\n",
    "# Now adding the last layer downshaping the output of previous layer to 10 (i.e. 0-9) \"digits\".\n",
    "# Remember: the output of this layer is merely a probablistic distribution, hence \"softmax\".\n",
    "network.add(layers.Dense(10, activation='softmax'))\n",
    "\n",
    "## lets see how DL network looks like\n",
    "network.summary()"
   ]
  },
  {
   "cell_type": "code",
   "execution_count": 4,
   "metadata": {},
   "outputs": [],
   "source": [
    "# Lets compile the network\n",
    "# Well: compile here means setting up the back propagation, define the loss function and to determine how the model is working\n",
    "## Optimizer is to reduce the loss function every step, gradient descent, reducing d(loss_fn)/d(layer's weight)\n",
    "# As it's a categocial classification, so picking up usual cat_crossent as loss method\n",
    "# How my network is converging? Lets measure 'accuracy'\n",
    "network.compile(optimizer='rmsprop', loss='categorical_crossentropy', metrics=['accuracy']);"
   ]
  },
  {
   "cell_type": "code",
   "execution_count": 5,
   "metadata": {},
   "outputs": [],
   "source": [
    "# Data preparation: To fit to my model\n",
    "\n",
    "train_images = train_images.reshape((60000, 28 * 28))\n",
    "train_images = train_images.astype('float32') / 255\n",
    "\n",
    "test_images = test_images.reshape((10000, 28 * 28))\n",
    "test_images = test_images.astype('float32') / 255\n",
    "\n",
    "# Sort of encoding such that the value remains b/w [-1, to +1]\n",
    "train_labels = to_categorical(train_labels)\n",
    "test_labels = to_categorical(test_labels)"
   ]
  },
  {
   "cell_type": "code",
   "execution_count": 6,
   "metadata": {},
   "outputs": [
    {
     "name": "stdout",
     "output_type": "stream",
     "text": [
      "WARNING:tensorflow:From C:\\Users\\pradipm\\AppData\\Local\\Continuum\\anaconda3\\envs\\practice\\lib\\site-packages\\tensorflow\\python\\ops\\math_ops.py:3066: to_int32 (from tensorflow.python.ops.math_ops) is deprecated and will be removed in a future version.\n",
      "Instructions for updating:\n",
      "Use tf.cast instead.\n",
      "Train on 50000 samples, validate on 10000 samples\n",
      "Epoch 1/5\n",
      "50000/50000 [==============================] - 7s 145us/step - loss: 0.2822 - acc: 0.9176 - val_loss: 0.1774 - val_acc: 0.9444\n",
      "Epoch 2/5\n",
      "50000/50000 [==============================] - 6s 125us/step - loss: 0.1157 - acc: 0.9660 - val_loss: 0.1129 - val_acc: 0.9642\n",
      "Epoch 3/5\n",
      "50000/50000 [==============================] - 6s 124us/step - loss: 0.0758 - acc: 0.9775 - val_loss: 0.0860 - val_acc: 0.9750\n",
      "Epoch 4/5\n",
      "50000/50000 [==============================] - 6s 125us/step - loss: 0.0543 - acc: 0.9836 - val_loss: 0.0893 - val_acc: 0.9735\n",
      "Epoch 5/5\n",
      "50000/50000 [==============================] - 6s 124us/step - loss: 0.0399 - acc: 0.9880 - val_loss: 0.0791 - val_acc: 0.9760394 - acc\n"
     ]
    }
   ],
   "source": [
    "# Now Training is done with 5 steps \"epoch\" on training data\n",
    "# Batch size typically power of 2, it's the per batch processing in a epoch\n",
    "validation_images = train_images[:10000]\n",
    "actual_train_images = train_images[10000:]\n",
    "validation_labels = train_labels[:10000]\n",
    "actual_train_labels = train_labels[10000:]\n",
    "history = network.fit(actual_train_images, actual_train_labels, \n",
    "                      epochs=5, \n",
    "                      batch_size=128, \n",
    "                      validation_data=(validation_images, validation_labels))"
   ]
  },
  {
   "cell_type": "code",
   "execution_count": 7,
   "metadata": {},
   "outputs": [
    {
     "name": "stdout",
     "output_type": "stream",
     "text": [
      "dict_keys(['val_loss', 'val_acc', 'loss', 'acc'])\n"
     ]
    },
    {
     "data": {
      "image/png": "[encoded data removed]",
      "text/plain": [
       "<Figure size 432x288 with 1 Axes>"
      ]
     },
     "metadata": {
      "needs_background": "light"
     },
     "output_type": "display_data"
    },
    {
     "data": {
      "image/png": "[encoded data removed]",
      "text/plain": [
       "<Figure size 432x288 with 1 Axes>"
      ]
     },
     "metadata": {
      "needs_background": "light"
     },
     "output_type": "display_data"
    }
   ],
   "source": [
    "## Let's show the overfitting example\n",
    "\n",
    "# history object, output of fit methof\n",
    "his_dict = history.history\n",
    "print (his_dict.keys())\n",
    "\n",
    "# loss plotting: Taining vs Validation\n",
    "loss_values = his_dict['loss']\n",
    "val_loss_values = his_dict['val_loss']\n",
    "epochs = range(1, len(his_dict['acc']) + 1)\n",
    "plt.plot(epochs, loss_values, 'b', label='Training Loss')\n",
    "plt.plot(epochs, val_loss_values, 'g', label='Validation Loss')\n",
    "plt.title('Training & Validation Loss')\n",
    "plt.xlabel('Epochs')\n",
    "plt.ylabel('Loss')\n",
    "plt.legend()\n",
    "plt.show()\n",
    "\n",
    "plt.clf()   ## clear the plot\n",
    "\n",
    "# Accuracy plotting: Training vs Validation\n",
    "acc_values = his_dict['acc']\n",
    "val_acc_values = his_dict['val_acc']\n",
    "plt.plot(epochs, acc_values, 'b', label='Training Accuracy')\n",
    "plt.plot(epochs, val_acc_values, 'g', label='Validation Accuracy')\n",
    "plt.title('Training & Validation Accuracy')\n",
    "plt.xlabel('Epochs')\n",
    "plt.ylabel('Loss')\n",
    "plt.legend()\n",
    "plt.show()\n"
   ]
  },
  {
   "cell_type": "code",
   "execution_count": 8,
   "metadata": {},
   "outputs": [
    {
     "name": "stdout",
     "output_type": "stream",
     "text": [
      "10000/10000 [==============================] - 1s 71us/step\n",
      "The accuracy I am expecting: 0.9779\n"
     ]
    }
   ],
   "source": [
    "# Now it's QA time! Test it over 10k samples.\n",
    "\n",
    "test_loss, test_acc = network.evaluate(test_images, test_labels)\n",
    "print('The accuracy I am expecting:', test_acc);\n"
   ]
  },
  {
   "cell_type": "code",
   "execution_count": 9,
   "metadata": {},
   "outputs": [
    {
     "name": "stdout",
     "output_type": "stream",
     "text": [
      "(10000, 10)\n",
      "Probablistic distribution of the first digit prediction: \n",
      "[5.2098725e-09 4.2153975e-10 9.0445951e-07 3.0629399e-05 4.7611303e-12\n",
      " 4.2860414e-08 2.3253760e-14 9.9996722e-01 1.2322017e-08 1.1891833e-06]\n",
      "Predicted pic: 7\n",
      "Actual picture under test: 7\n",
      "Bingo!\n"
     ]
    }
   ],
   "source": [
    "# Prediction section\n",
    "\n",
    "predictions = network.predict(test_images);\n",
    "print (predictions.shape);\n",
    "print ('Probablistic distribution of the first digit prediction: \\n' + str(predictions[0]));\n",
    "\n",
    "\n",
    "# See what we got?\n",
    "predicted_value = np.argmax(predictions[0]);\n",
    "print ('Predicted pic: ' + str(predicted_value));\n",
    "print ('Actual picture under test: ' + str(np.argmax(test_labels[0])));\n",
    "\n",
    "\n",
    "print ('Bingo!')"
   ]
  },
  {
   "cell_type": "code",
   "execution_count": null,
   "metadata": {},
   "outputs": [],
   "source": []
  }
 ],
 "metadata": {
  "kernelspec": {
   "display_name": "Python 3",
   "language": "python",
   "name": "python3"
  },
  "language_info": {
   "codemirror_mode": {
    "name": "ipython",
    "version": 3
   },
   "file_extension": ".py",
   "mimetype": "text/x-python",
   "name": "python",
   "nbconvert_exporter": "python",
   "pygments_lexer": "ipython3",
   "version": "3.7.4"
  }
 },
 "nbformat": 4,
 "nbformat_minor": 2
}
